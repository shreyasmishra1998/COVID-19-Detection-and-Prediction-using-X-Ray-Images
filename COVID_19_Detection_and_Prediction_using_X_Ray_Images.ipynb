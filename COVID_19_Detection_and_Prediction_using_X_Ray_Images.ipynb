{
  "nbformat": 4,
  "nbformat_minor": 0,
  "metadata": {
    "accelerator": "GPU",
    "colab": {
      "name": "COVID 19 Detection and Prediction using X-Ray Images.ipynb",
      "provenance": [],
      "collapsed_sections": [],
      "toc_visible": true
    },
    "kernelspec": {
      "display_name": "Python 3",
      "language": "python",
      "name": "python3"
    },
    "language_info": {
      "codemirror_mode": {
        "name": "ipython",
        "version": 3
      },
      "file_extension": ".py",
      "mimetype": "text/x-python",
      "name": "python",
      "nbconvert_exporter": "python",
      "pygments_lexer": "ipython3",
      "version": "3.6.9"
    }
  },
  "cells": [
    {
      "cell_type": "code",
      "metadata": {
        "id": "MPSksU1YBsgt",
        "colab_type": "code",
        "outputId": "710da230-4c1d-4d3c-e756-6fff559f29e7",
        "colab": {
          "base_uri": "https://localhost:8080/",
          "height": 153
        }
      },
      "source": [
        "!git clone https://github.com/ieee8023/covid-chestxray-dataset.git"
      ],
      "execution_count": 1,
      "outputs": [
        {
          "output_type": "stream",
          "text": [
            "Cloning into 'covid-chestxray-dataset'...\n",
            "remote: Enumerating objects: 250, done.\u001b[K\n",
            "remote: Counting objects: 100% (250/250), done.\u001b[K\n",
            "remote: Compressing objects: 100% (186/186), done.\u001b[K\n",
            "remote: Total 3095 (delta 102), reused 197 (delta 64), pack-reused 2845\u001b[K\n",
            "Receiving objects: 100% (3095/3095), 573.01 MiB | 45.90 MiB/s, done.\n",
            "Resolving deltas: 100% (1206/1206), done.\n",
            "Checking out files: 100% (891/891), done.\n"
          ],
          "name": "stdout"
        }
      ]
    },
    {
      "cell_type": "code",
      "metadata": {
        "id": "J1620dKHF2t3",
        "colab_type": "code",
        "colab": {}
      },
      "source": [
        "# Colab library to upload files to notebook\n",
        "from google.colab import files\n",
        "\n",
        "# Install Kaggle library\n",
        "!pip install -q kaggle\n",
        "\n",
        "# Upload kaggle API key file\n",
        "uploaded = files.upload()\n",
        "!pip install -q kaggle\n",
        "!mkdir -p ~/.kaggle\n",
        "!cp kaggle.json ~/.kaggle/\n",
        "!ls ~/.kaggle\n",
        "!chmod 600 /root/.kaggle/kaggle.json\n",
        "!pip uninstall -y kaggle\n",
        "!pip install --upgrade pip\n",
        "!pip install kaggle==1.5.6\n",
        "!kaggle -v\n",
        "!kaggle datasets download -d paultimothymooney/chest-xray-pneumonia"
      ],
      "execution_count": 0,
      "outputs": []
    },
    {
      "cell_type": "code",
      "metadata": {
        "id": "hDy3CjY0GbeQ",
        "colab_type": "code",
        "colab": {}
      },
      "source": [
        "!unzip '/content/chest-xray-pneumonia.zip'"
      ],
      "execution_count": 0,
      "outputs": []
    },
    {
      "cell_type": "code",
      "metadata": {
        "id": "-NSehY35Bk3Q",
        "colab_type": "code",
        "colab": {}
      },
      "source": [
        "import pandas as pd\n",
        "import os\n",
        "import shutil"
      ],
      "execution_count": 0,
      "outputs": []
    },
    {
      "cell_type": "code",
      "metadata": {
        "id": "-Ws5xkrpBk33",
        "colab_type": "code",
        "colab": {}
      },
      "source": [
        "#Create the data for positive samples \n",
        "\n",
        "FILE_PATH = \"/content/covid-chestxray-dataset/metadata.csv\"\n",
        "IMAGE_PATH = \"/content/covid-chestxray-dataset/images\"\n",
        "df = pd.read_csv(FILE_PATH)\n",
        "df.shape"
      ],
      "execution_count": 0,
      "outputs": []
    },
    {
      "cell_type": "code",
      "metadata": {
        "id": "30k1zMCiBk5o",
        "colab_type": "code",
        "colab": {}
      },
      "source": [
        "!mkdir '/content/COVID'"
      ],
      "execution_count": 0,
      "outputs": []
    },
    {
      "cell_type": "code",
      "metadata": {
        "id": "x4oceEhSDE_L",
        "colab_type": "code",
        "colab": {}
      },
      "source": [
        "TARGET_DIR = '/content/COVID/'"
      ],
      "execution_count": 0,
      "outputs": []
    },
    {
      "cell_type": "code",
      "metadata": {
        "id": "_oir2sUEBk6E",
        "colab_type": "code",
        "colab": {}
      },
      "source": [
        "#Copy COVID-19 images with view point PA from Downloaded directory to Target Directory\n",
        "cnt = 0\n",
        "for(i,row) in df.iterrows():\n",
        "    if 'row[\"finding\"] == \"COVID-19\"' and row[\"view\"] ==\"PA\":\n",
        "        filename = row[\"filename\"]\n",
        "        image_path = os.path.join(IMAGE_PATH,filename) #IMAGE_PATH + filename\n",
        "        image_copy_path = os.path.join(TARGET_DIR,filename) #TARGET_DIR + filename\n",
        "        shutil.copy2(image_path,image_copy_path) #Copy From IMAGE_PATH to TARGET_DIrectory\n",
        "       # print(\"Moving Image\",cnt)\n",
        "        cnt+=1\n",
        "print(cnt)"
      ],
      "execution_count": 0,
      "outputs": []
    },
    {
      "cell_type": "code",
      "metadata": {
        "id": "Ce-FBUWXG7C4",
        "colab_type": "code",
        "colab": {}
      },
      "source": [
        "!mkdir '/content/Normal'"
      ],
      "execution_count": 0,
      "outputs": []
    },
    {
      "cell_type": "code",
      "metadata": {
        "id": "lGtWNKQiBk6Z",
        "colab_type": "code",
        "colab": {}
      },
      "source": [
        "import random\n",
        "from glob import glob\n",
        "KAGGLE_FILE_PATH = \"/content/chest_xray/train/NORMAL\"\n",
        "TARGET_NORMAL_DIR = \"/content/Normal\"    \n",
        "image_names = os.listdir(KAGGLE_FILE_PATH) #COntains list of all image names\n",
        "# images_names\n",
        "random.shuffle(image_names) #it will randomly shuffle names in list\n",
        "\n",
        "for i in range(len(glob('/content/COVID/*'))):\n",
        "    image_name = image_names[i]\n",
        "    image_path = os.path.join(KAGGLE_FILE_PATH,image_name)\n",
        "    \n",
        "    target_path = os.path.join(TARGET_NORMAL_DIR,image_name)\n",
        "    shutil.copy2(image_path,target_path)\n",
        "#     print(\"Moved\",i)"
      ],
      "execution_count": 0,
      "outputs": []
    },
    {
      "cell_type": "code",
      "metadata": {
        "id": "DZpTWNJ7IsDT",
        "colab_type": "code",
        "colab": {}
      },
      "source": [
        "!mkdir '/content/IMAGES'"
      ],
      "execution_count": 0,
      "outputs": []
    },
    {
      "cell_type": "code",
      "metadata": {
        "id": "p_0BDd3yKG5v",
        "colab_type": "code",
        "colab": {
          "base_uri": "https://localhost:8080/",
          "height": 34
        },
        "outputId": "5d20fba4-7e49-46c0-9ceb-362bb51cf075"
      },
      "source": [
        "shutil.move('/content/COVID','/content/IMAGES/COVID')"
      ],
      "execution_count": 12,
      "outputs": [
        {
          "output_type": "execute_result",
          "data": {
            "text/plain": [
              "'/content/IMAGES/COVID'"
            ]
          },
          "metadata": {
            "tags": []
          },
          "execution_count": 12
        }
      ]
    },
    {
      "cell_type": "code",
      "metadata": {
        "id": "56z-oXyvKWWl",
        "colab_type": "code",
        "colab": {
          "base_uri": "https://localhost:8080/",
          "height": 34
        },
        "outputId": "845030b3-33a3-4601-b537-7441d9cfaecc"
      },
      "source": [
        "shutil.move('/content/Normal','/content/IMAGES/Normal')"
      ],
      "execution_count": 13,
      "outputs": [
        {
          "output_type": "execute_result",
          "data": {
            "text/plain": [
              "'/content/IMAGES/Normal'"
            ]
          },
          "metadata": {
            "tags": []
          },
          "execution_count": 13
        }
      ]
    },
    {
      "cell_type": "code",
      "metadata": {
        "id": "Pg5dtfMNIoqq",
        "colab_type": "code",
        "colab": {}
      },
      "source": [
        "# import the necessary packages\n",
        "import os\n",
        "\n",
        "# initialize the path to the *original* input directory of images\n",
        "ORIG_INPUT_DATASET = \"/content/IMAGES\"\n",
        "\n",
        "# initialize the base path to the *new* directory that will contain\n",
        "# our images after computing the training and testing split\n",
        "BASE_PATH = \"/content\"\n",
        "\n",
        "# derive the training, validation, and testing directories\n",
        "TRAIN_PATH = os.path.sep.join([BASE_PATH, \"training\"])\n",
        "VAL_PATH = os.path.sep.join([BASE_PATH, \"validation\"])\n",
        "TEST_PATH = os.path.sep.join([BASE_PATH, \"testing\"])\n",
        "\n",
        "# define the amount of data that will be used training\n",
        "TRAIN_SPLIT = 0.8\n",
        "\n",
        "# the amount of validation data will be a percentage of the\n",
        "# *training* data\n",
        "VAL_SPLIT = 0.1"
      ],
      "execution_count": 0,
      "outputs": []
    },
    {
      "cell_type": "code",
      "metadata": {
        "id": "un4KH8d1K8EM",
        "colab_type": "code",
        "colab": {}
      },
      "source": [
        "# import the necessary packages\n",
        "from imutils import paths\n",
        "import random\n",
        "import shutil\n",
        "import os\n",
        "\n",
        "# grab the paths to all input images in the original input directory\n",
        "# and shuffle them\n",
        "imagePaths = list(paths.list_images(ORIG_INPUT_DATASET))\n",
        "random.seed(42)\n",
        "random.shuffle(imagePaths)\n",
        "\n",
        "# compute the training and testing split\n",
        "i = int(len(imagePaths) *TRAIN_SPLIT)\n",
        "trainPaths = imagePaths[:i]\n",
        "testPaths = imagePaths[i:]\n",
        "\n",
        "# we'll be using part of the training data for validation\n",
        "i = int(len(trainPaths) *VAL_SPLIT)\n",
        "valPaths = trainPaths[:i]\n",
        "trainPaths = trainPaths[i:]\n",
        "\n",
        "# define the datasets that we'll be building\n",
        "datasets = [\n",
        "\t(\"training\", trainPaths,TRAIN_PATH),\n",
        "\t(\"validation\", valPaths,VAL_PATH),\n",
        "\t(\"testing\", testPaths,TEST_PATH)\n",
        "]\n",
        "\n",
        "# loop over the datasets\n",
        "for (dType, imagePaths, baseOutput) in datasets:\n",
        "\t# show which data split we are creating\n",
        "\tprint(\"[INFO] building '{}' split\".format(dType))\n",
        "\n",
        "\t# if the output base output directory does not exist, create it\n",
        "\tif not os.path.exists(baseOutput):\n",
        "\t\tprint(\"[INFO] 'creating {}' directory\".format(baseOutput))\n",
        "\t\tos.makedirs(baseOutput)\n",
        "\n",
        "\t# loop over the input image paths\n",
        "\tfor inputPath in imagePaths:\n",
        "\t\t# extract the filename of the input image along with its\n",
        "\t\t# corresponding class label\n",
        "\t\tfilename = inputPath.split(os.path.sep)[-1]\n",
        "\t\tlabel = inputPath.split(os.path.sep)[-2]\n",
        "\n",
        "\t\t# build the path to the label directory\n",
        "\t\tlabelPath = os.path.sep.join([baseOutput, label])\n",
        "\n",
        "\t\t# if the label output directory does not exist, create it\n",
        "\t\tif not os.path.exists(labelPath):\n",
        "\t\t\tprint(\"[INFO] 'creating {}' directory\".format(labelPath))\n",
        "\t\t\tos.makedirs(labelPath)\n",
        "\n",
        "\t\t# construct the path to the destination image and then copy\n",
        "\t\t# the image itself\n",
        "\t\tp = os.path.sep.join([labelPath, filename])\n",
        "\t\tshutil.copy2(inputPath, p)"
      ],
      "execution_count": 0,
      "outputs": []
    },
    {
      "cell_type": "code",
      "metadata": {
        "colab_type": "code",
        "id": "kLbMjKaGEDSX",
        "outputId": "7d64b466-8c99-4a33-baa9-a3e5da640835",
        "colab": {
          "base_uri": "https://localhost:8080/",
          "height": 34
        }
      },
      "source": [
        "import numpy as np\n",
        "import matplotlib.pyplot as plt\n",
        "import keras\n",
        "from keras.layers import *\n",
        "from keras.models import *\n",
        "from keras.preprocessing import image"
      ],
      "execution_count": 16,
      "outputs": [
        {
          "output_type": "stream",
          "text": [
            "Using TensorFlow backend.\n"
          ],
          "name": "stderr"
        }
      ]
    },
    {
      "cell_type": "code",
      "metadata": {
        "colab_type": "code",
        "id": "nMcRnjckES5E",
        "colab": {}
      },
      "source": [
        "model = Sequential()\n",
        "model.add(Conv2D(32,kernel_size=(3,3),activation=\"relu\",input_shape=(224,224,3)))\n",
        "\n",
        "model.add(Conv2D(64,(3,3),activation=\"relu\"))\n",
        "model.add(MaxPooling2D(pool_size = (2,2)))\n",
        "model.add(Dropout(0.25))\n",
        "\n",
        "model.add(Conv2D(64,(3,3),activation=\"relu\"))\n",
        "model.add(MaxPooling2D(pool_size=(2,2)))\n",
        "model.add(Dropout(0.25))\n",
        "\n",
        "model.add(Conv2D(128,(3,3),activation=\"relu\"))\n",
        "model.add(MaxPooling2D(pool_size=(2,2)))\n",
        "model.add(Dropout(0.25))\n",
        "\n",
        "model.add(Conv2D(128,(3,3),activation=\"relu\"))\n",
        "model.add(MaxPooling2D(pool_size=(2,2)))\n",
        "model.add(Dropout(0.25))\n",
        "\n",
        "model.add(Flatten())\n",
        "model.add(Dense(64,activation=\"relu\"))\n",
        "model.add(Dropout(0.5))\n",
        "\n",
        "model.add(Dense(1,activation=\"sigmoid\"))\n",
        "\n",
        "model.compile(loss=keras.losses.binary_crossentropy,optimizer = \"adam\",metrics=[\"accuracy\"])\n"
      ],
      "execution_count": 0,
      "outputs": []
    },
    {
      "cell_type": "code",
      "metadata": {
        "colab_type": "code",
        "id": "k81GqhjJIDnE",
        "colab": {}
      },
      "source": [
        "model.summary()"
      ],
      "execution_count": 0,
      "outputs": []
    },
    {
      "cell_type": "code",
      "metadata": {
        "colab_type": "code",
        "id": "lt8si8MKIaUM",
        "colab": {}
      },
      "source": [
        "train_datagen = image.ImageDataGenerator(\n",
        "    rescale = 1./255,\n",
        "    shear_range = 0.2,\n",
        "    zoom_range = 0.2,\n",
        "    horizontal_flip = True,\n",
        ")\n",
        "test_dataset = image.ImageDataGenerator(rescale = 1./255)\n"
      ],
      "execution_count": 0,
      "outputs": []
    },
    {
      "cell_type": "code",
      "metadata": {
        "colab_type": "code",
        "id": "ikdogu6GJ06S",
        "outputId": "7a94e102-9953-40e9-b7d3-ed50f6ad2071",
        "colab": {
          "base_uri": "https://localhost:8080/",
          "height": 34
        }
      },
      "source": [
        "train_generator = train_datagen.flow_from_directory(\n",
        "    '/content/training',\n",
        "    target_size = (224,224),\n",
        "    batch_size = 32,\n",
        "    class_mode = 'binary'\n",
        ")"
      ],
      "execution_count": 20,
      "outputs": [
        {
          "output_type": "stream",
          "text": [
            "Found 429 images belonging to 2 classes.\n"
          ],
          "name": "stdout"
        }
      ]
    },
    {
      "cell_type": "code",
      "metadata": {
        "colab_type": "code",
        "id": "j37uuWU3KPM4",
        "outputId": "64d1fe34-fe49-4191-8767-edfa05f736b7",
        "colab": {
          "base_uri": "https://localhost:8080/",
          "height": 34
        }
      },
      "source": [
        "train_generator.class_indices"
      ],
      "execution_count": 21,
      "outputs": [
        {
          "output_type": "execute_result",
          "data": {
            "text/plain": [
              "{'COVID': 0, 'Normal': 1}"
            ]
          },
          "metadata": {
            "tags": []
          },
          "execution_count": 21
        }
      ]
    },
    {
      "cell_type": "code",
      "metadata": {
        "id": "NgufR8ifL76y",
        "colab_type": "code",
        "colab": {
          "base_uri": "https://localhost:8080/",
          "height": 34
        },
        "outputId": "44e500a5-c682-4564-f294-d92ce6ccfdc4"
      },
      "source": [
        "validation_generator = train_datagen.flow_from_directory(\n",
        "    '/content/testing',\n",
        "    target_size = (224,224),\n",
        "    batch_size = 32,\n",
        "    class_mode = 'binary'\n",
        ")"
      ],
      "execution_count": 22,
      "outputs": [
        {
          "output_type": "stream",
          "text": [
            "Found 120 images belonging to 2 classes.\n"
          ],
          "name": "stdout"
        }
      ]
    },
    {
      "cell_type": "code",
      "metadata": {
        "colab_type": "code",
        "id": "eln76WRWKYvB",
        "outputId": "c7022347-1495-4e53-f8b1-dd14baf577e4",
        "colab": {
          "base_uri": "https://localhost:8080/",
          "height": 34
        }
      },
      "source": [
        "test_generator = test_dataset.flow_from_directory(\n",
        "    '/content/validation',\n",
        "    target_size = (224,224),\n",
        "    batch_size = 32,\n",
        "    class_mode = 'binary'\n",
        ")"
      ],
      "execution_count": 23,
      "outputs": [
        {
          "output_type": "stream",
          "text": [
            "Found 47 images belonging to 2 classes.\n"
          ],
          "name": "stdout"
        }
      ]
    },
    {
      "cell_type": "code",
      "metadata": {
        "colab_type": "code",
        "id": "bJD_HDI3LOML",
        "outputId": "adb6a788-24fa-477d-9322-dbefdccd4c2a",
        "colab": {
          "base_uri": "https://localhost:8080/",
          "height": 377
        }
      },
      "source": [
        "hist = model.fit_generator(\n",
        "    train_generator,\n",
        "    steps_per_epoch = 8,\n",
        "    epochs = 10,\n",
        "    validation_data = validation_generator,\n",
        "    validation_steps = 2\n",
        ")"
      ],
      "execution_count": 24,
      "outputs": [
        {
          "output_type": "stream",
          "text": [
            "Epoch 1/10\n",
            "8/8 [==============================] - 13s 2s/step - loss: 1.1539 - accuracy: 0.4895 - val_loss: 0.6930 - val_accuracy: 0.4844\n",
            "Epoch 2/10\n",
            "8/8 [==============================] - 7s 853ms/step - loss: 0.6915 - accuracy: 0.5485 - val_loss: 0.6902 - val_accuracy: 0.5714\n",
            "Epoch 3/10\n",
            "8/8 [==============================] - 10s 1s/step - loss: 0.6829 - accuracy: 0.5234 - val_loss: 0.6778 - val_accuracy: 0.8750\n",
            "Epoch 4/10\n",
            "8/8 [==============================] - 8s 994ms/step - loss: 0.6133 - accuracy: 0.6797 - val_loss: 0.6174 - val_accuracy: 0.8750\n",
            "Epoch 5/10\n",
            "8/8 [==============================] - 10s 1s/step - loss: 0.5251 - accuracy: 0.7553 - val_loss: 0.5505 - val_accuracy: 0.7812\n",
            "Epoch 6/10\n",
            "8/8 [==============================] - 8s 996ms/step - loss: 0.4266 - accuracy: 0.8203 - val_loss: 0.4424 - val_accuracy: 0.9107\n",
            "Epoch 7/10\n",
            "8/8 [==============================] - 10s 1s/step - loss: 0.3403 - accuracy: 0.8734 - val_loss: 0.3539 - val_accuracy: 0.8594\n",
            "Epoch 8/10\n",
            "8/8 [==============================] - 8s 951ms/step - loss: 0.3115 - accuracy: 0.8984 - val_loss: 0.2577 - val_accuracy: 0.9464\n",
            "Epoch 9/10\n",
            "8/8 [==============================] - 10s 1s/step - loss: 0.2188 - accuracy: 0.9198 - val_loss: 0.3709 - val_accuracy: 0.9688\n",
            "Epoch 10/10\n",
            "8/8 [==============================] - 7s 887ms/step - loss: 0.3199 - accuracy: 0.8861 - val_loss: 0.0818 - val_accuracy: 0.9643\n"
          ],
          "name": "stdout"
        }
      ]
    },
    {
      "cell_type": "code",
      "metadata": {
        "colab_type": "code",
        "id": "xGcBDThIL-p8",
        "colab": {}
      },
      "source": [
        "model.save(\"Detection_Covid_19.h5\")"
      ],
      "execution_count": 0,
      "outputs": []
    },
    {
      "cell_type": "code",
      "metadata": {
        "colab_type": "code",
        "id": "WpINfswbVyM_",
        "colab": {}
      },
      "source": [
        "model = load_model(\"Detection_Covid_19.h5\")"
      ],
      "execution_count": 0,
      "outputs": []
    },
    {
      "cell_type": "code",
      "metadata": {
        "colab_type": "code",
        "id": "EqZ6D07_WRNE",
        "colab": {}
      },
      "source": [
        "import os"
      ],
      "execution_count": 0,
      "outputs": []
    },
    {
      "cell_type": "code",
      "metadata": {
        "colab_type": "code",
        "id": "8WtXLdRLWXed",
        "colab": {}
      },
      "source": [
        "y_actual = []\n",
        "y_test = []"
      ],
      "execution_count": 0,
      "outputs": []
    },
    {
      "cell_type": "code",
      "metadata": {
        "colab_type": "code",
        "id": "WW1UC4qrWacp",
        "colab": {}
      },
      "source": [
        "for i in os.listdir(\"/content/validation/Normal\"):\n",
        "  img = image.load_img(\"/content/validation/Normal/\"+i,target_size=(224,224))\n",
        "  img = image.img_to_array(img)\n",
        "  img = np.expand_dims(img,axis=0)\n",
        "  p = model.predict_classes(img)\n",
        "  y_test.append(p[0,0])\n",
        "  y_actual.append(1)"
      ],
      "execution_count": 0,
      "outputs": []
    },
    {
      "cell_type": "code",
      "metadata": {
        "colab_type": "code",
        "id": "XwqD0RAKW5ck",
        "colab": {}
      },
      "source": [
        "for i in os.listdir(\"/content/validation/COVID\"):\n",
        "  img = image.load_img(\"/content/validation/COVID/\"+i,target_size=(224,224))\n",
        "  img = image.img_to_array(img)\n",
        "  img = np.expand_dims(img,axis=0)\n",
        "  p = model.predict_classes(img)\n",
        "  y_test.append(p[0,0])\n",
        "  y_actual.append(0)"
      ],
      "execution_count": 0,
      "outputs": []
    },
    {
      "cell_type": "code",
      "metadata": {
        "colab_type": "code",
        "id": "5NuoneYpXEd7",
        "colab": {}
      },
      "source": [
        "y_actual = np.array(y_actual)\n",
        "y_test = np.array(y_test)"
      ],
      "execution_count": 0,
      "outputs": []
    },
    {
      "cell_type": "code",
      "metadata": {
        "colab_type": "code",
        "id": "nv58xeJfXKq9",
        "colab": {}
      },
      "source": [
        "from sklearn.metrics import confusion_matrix"
      ],
      "execution_count": 0,
      "outputs": []
    },
    {
      "cell_type": "code",
      "metadata": {
        "colab_type": "code",
        "id": "BlRsMa76XQkh",
        "colab": {}
      },
      "source": [
        "cm = confusion_matrix(y_actual,y_test)"
      ],
      "execution_count": 0,
      "outputs": []
    },
    {
      "cell_type": "code",
      "metadata": {
        "colab_type": "code",
        "id": "FliAEEsVXWac",
        "colab": {}
      },
      "source": [
        "import seaborn as sns"
      ],
      "execution_count": 0,
      "outputs": []
    },
    {
      "cell_type": "code",
      "metadata": {
        "id": "9o46bX0pBlEr",
        "colab_type": "code",
        "colab": {}
      },
      "source": [
        "import itertools\n",
        "import numpy as np\n",
        "import matplotlib.pyplot as plt\n",
        "from sklearn.metrics import confusion_matrix\n",
        "class_names = [\"Covid-19\",\"Normal\"]\n",
        "\n",
        "def plot_confusion_matrix(cm, classes,\n",
        "                          normalize=False,\n",
        "                          title='Confusion matrix',\n",
        "                          cmap=\"Blues\"):\n",
        "    \"\"\"\n",
        "    This function prints and plots the confusion matrix.\n",
        "    Normalization can be applied by setting `normalize=True`.\n",
        "    \"\"\"\n",
        "    plt.imshow(cm, interpolation='nearest', cmap=cmap)\n",
        "    plt.title(title)\n",
        "    plt.colorbar()\n",
        "    tick_marks = np.arange(len(classes))\n",
        "    plt.xticks(tick_marks, classes, rotation=45)\n",
        "    plt.yticks(tick_marks, classes)\n",
        "\n",
        "    if normalize:\n",
        "        cm = cm.astype('float') / cm.sum(axis=1)[:, np.newaxis]\n",
        "        print(\"Normalized confusion matrix\")\n",
        "    else:\n",
        "        print('Confusion matrix, without normalization')\n",
        "\n",
        "    print(cm)\n",
        "\n",
        "    thresh = cm.max() / 2.\n",
        "    for i, j in itertools.product(range(cm.shape[0]), range(cm.shape[1])):\n",
        "        plt.text(j, i, cm[i, j],\n",
        "                 horizontalalignment=\"center\",\n",
        "                 color=\"white\" if cm[i, j] > thresh else \"black\")\n",
        "\n",
        "    plt.tight_layout()\n",
        "    plt.ylabel('True label')\n",
        "    plt.xlabel('Predicted label')"
      ],
      "execution_count": 0,
      "outputs": []
    },
    {
      "cell_type": "code",
      "metadata": {
        "id": "AUbcqTiABlE6",
        "colab_type": "code",
        "outputId": "00f28f4f-2ae9-4451-911a-312bdcb60ac6",
        "colab": {
          "base_uri": "https://localhost:8080/",
          "height": 362
        }
      },
      "source": [
        "plt.figure()\n",
        "plot_confusion_matrix(cm, classes=class_names,\n",
        "                      title='Confusion matrix for Covid-19 Detection')\n"
      ],
      "execution_count": 44,
      "outputs": [
        {
          "output_type": "stream",
          "text": [
            "Confusion matrix, without normalization\n",
            "[[20  2]\n",
            " [ 1 24]]\n"
          ],
          "name": "stdout"
        },
        {
          "output_type": "display_data",
          "data": {
            "image/png": "[encoded data removed]",
            "text/plain": [
              "<Figure size 432x288 with 2 Axes>"
            ]
          },
          "metadata": {
            "tags": [],
            "needs_background": "light"
          }
        }
      ]
    },
    {
      "cell_type": "code",
      "metadata": {
        "id": "KuxyfBQTBlFc",
        "colab_type": "code",
        "outputId": "058bb0f7-ed2e-44ba-8d2f-3202c37464d3",
        "colab": {
          "base_uri": "https://localhost:8080/",
          "height": 295
        }
      },
      "source": [
        "plt.plot(hist.history['accuracy'])\n",
        "plt.plot(hist.history['val_accuracy'])\n",
        "plt.title('model accuracy')\n",
        "plt.ylabel('accuracy')\n",
        "plt.xlabel('epoch')\n",
        "plt.legend(['train', 'test'], loc='upper left')\n",
        "plt.show()\n"
      ],
      "execution_count": 47,
      "outputs": [
        {
          "output_type": "display_data",
          "data": {
            "image/png": "[encoded data removed]",
            "text/plain": [
              "<Figure size 432x288 with 1 Axes>"
            ]
          },
          "metadata": {
            "tags": [],
            "needs_background": "light"
          }
        }
      ]
    },
    {
      "cell_type": "code",
      "metadata": {
        "id": "viJRG_j9BlFq",
        "colab_type": "code",
        "outputId": "40c19d52-e874-4512-9cc5-7c781d9792ea",
        "colab": {
          "base_uri": "https://localhost:8080/",
          "height": 295
        }
      },
      "source": [
        "plt.plot(hist.history['loss'])\n",
        "plt.plot(hist.history['val_loss'])\n",
        "plt.title('model loss')\n",
        "plt.ylabel('loss')\n",
        "plt.xlabel('epoch')\n",
        "plt.legend(['train', 'test'], loc='upper left')\n",
        "plt.show()"
      ],
      "execution_count": 48,
      "outputs": [
        {
          "output_type": "display_data",
          "data": {
            "image/png": "[encoded data removed]",
            "text/plain": [
              "<Figure size 432x288 with 1 Axes>"
            ]
          },
          "metadata": {
            "tags": [],
            "needs_background": "light"
          }
        }
      ]
    },
    {
      "cell_type": "code",
      "metadata": {
        "id": "TLCCfHsdUaS7",
        "colab_type": "code",
        "colab": {}
      },
      "source": [
        "!wget 'https://raw.githubusercontent.com/hakantekgul/COVID-19_Classification/master/test_covid.jpeg'\n",
        "!wget 'https://raw.githubusercontent.com/hakantekgul/COVID-19_Classification/master/test_no_covid.jpeg'"
      ],
      "execution_count": 0,
      "outputs": []
    },
    {
      "cell_type": "code",
      "metadata": {
        "id": "XMyOXiapVXGO",
        "colab_type": "code",
        "colab": {
          "base_uri": "https://localhost:8080/",
          "height": 224
        },
        "outputId": "3a599e3e-8317-4386-e4da-81f0a49f0fa0"
      },
      "source": [
        "!wget 'https://raw.githubusercontent.com/hellorp1990/Covid-19-USF/master/external_covid_for%20testing/covid-19-pneumonia-28.png'"
      ],
      "execution_count": 62,
      "outputs": [
        {
          "output_type": "stream",
          "text": [
            "--2020-06-15 05:01:15--  https://raw.githubusercontent.com/hellorp1990/Covid-19-USF/master/external_covid_for%20testing/covid-19-pneumonia-28.png\n",
            "Resolving raw.githubusercontent.com (raw.githubusercontent.com)... 151.101.0.133, 151.101.64.133, 151.101.128.133, ...\n",
            "Connecting to raw.githubusercontent.com (raw.githubusercontent.com)|151.101.0.133|:443... connected.\n",
            "HTTP request sent, awaiting response... 200 OK\n",
            "Length: 533471 (521K) [image/png]\n",
            "Saving to: ‘covid-19-pneumonia-28.png’\n",
            "\n",
            "\r          covid-19-   0%[                    ]       0  --.-KB/s               \rcovid-19-pneumonia- 100%[===================>] 520.97K  --.-KB/s    in 0.07s   \n",
            "\n",
            "2020-06-15 05:01:16 (7.53 MB/s) - ‘covid-19-pneumonia-28.png’ saved [533471/533471]\n",
            "\n"
          ],
          "name": "stdout"
        }
      ]
    },
    {
      "cell_type": "code",
      "metadata": {
        "colab_type": "code",
        "id": "nnRGu4QHXhSZ",
        "outputId": "16c77f87-0b39-447b-cec4-98de29b8eff7",
        "colab": {
          "base_uri": "https://localhost:8080/",
          "height": 51
        }
      },
      "source": [
        "import numpy as np\n",
        "import cv2\n",
        "from keras.preprocessing import image\n",
        "xtest_image = image.load_img('/content/covid-19-pneumonia-28.png', target_size = (224, 224))\n",
        "xtest_image = image.img_to_array(xtest_image)\n",
        "xtest_image = np.expand_dims(xtest_image, axis = 0)\n",
        "results = model.predict_classes(xtest_image)\n",
        "# training_set.class_indices\n",
        "#print(\"This Xray Image is of positive covid-19 patient\")\n",
        "if results[0][0] == 0:\n",
        "    prediction = 'Positive For Covid-19'\n",
        "else:\n",
        "    prediction = 'Negative for Covid-19'\n",
        "print(\"Prediction Of Our Model : \",prediction)"
      ],
      "execution_count": 63,
      "outputs": [
        {
          "output_type": "stream",
          "text": [
            "[[0]]\n",
            "Prediction Of Our Model :  Positive For Covid-19\n"
          ],
          "name": "stdout"
        }
      ]
    }
  ]
}